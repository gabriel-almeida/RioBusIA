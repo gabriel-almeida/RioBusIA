{
 "metadata": {
  "name": "",
  "signature": "sha256:00d4e923bf3893f174959414971639b1fd417d54a36f643434e3294c6165fafe"
 },
 "nbformat": 3,
 "nbformat_minor": 0,
 "worksheets": [
  {
   "cells": [
    {
     "cell_type": "code",
     "collapsed": false,
     "input": [
      "import pandas as pd\n",
      "import scipy\n",
      "from scipy.spatial import cKDTree"
     ],
     "language": "python",
     "metadata": {},
     "outputs": [],
     "prompt_number": 1
    },
    {
     "cell_type": "code",
     "collapsed": false,
     "input": [
      "linhas_interesse = ['485', '917', '624', '616', '913', '952', '383']\n",
      "base_url = 'http://dadosabertos.rio.rj.gov.br/apiTransporte/Apresentacao/csv/gtfs/onibus/percursos/gtfs_linha%s-shapes.csv'\n",
      "trajetos = pd.concat([pd.read_csv(base_url % linha ) for linha in linhas_interesse])"
     ],
     "language": "python",
     "metadata": {},
     "outputs": [],
     "prompt_number": 33
    },
    {
     "cell_type": "code",
     "collapsed": false,
     "input": [
      "def geraRotaPandas(data_frame):\n",
      "    pontos = data_frame.sort('sequencia')[['latitude', 'longitude']].as_matrix()\n",
      "    return Rota(pontos)\n",
      "\n",
      "rotas = trajetos.groupby(['linha', 'shape_id']).apply(geraRotaPandas)"
     ],
     "language": "python",
     "metadata": {},
     "outputs": [],
     "prompt_number": 34
    },
    {
     "cell_type": "code",
     "collapsed": false,
     "input": [
      "import time\n",
      "gps = pd.DataFrame()\n",
      "for i in range(10):\n",
      "    gps = pd.concat([gps, pd.read_csv('http://dadosabertos.rio.rj.gov.br/apiTransporte/apresentacao/csv/onibus.cfm')])\n",
      "    print(i)\n",
      "    time.sleep(60)"
     ],
     "language": "python",
     "metadata": {},
     "outputs": [
      {
       "output_type": "stream",
       "stream": "stdout",
       "text": [
        "0\n",
        "1"
       ]
      },
      {
       "output_type": "stream",
       "stream": "stdout",
       "text": [
        "\n",
        "2"
       ]
      },
      {
       "output_type": "stream",
       "stream": "stdout",
       "text": [
        "\n",
        "3"
       ]
      },
      {
       "output_type": "stream",
       "stream": "stdout",
       "text": [
        "\n",
        "4"
       ]
      },
      {
       "output_type": "stream",
       "stream": "stdout",
       "text": [
        "\n",
        "5"
       ]
      },
      {
       "output_type": "stream",
       "stream": "stdout",
       "text": [
        "\n",
        "6"
       ]
      },
      {
       "output_type": "stream",
       "stream": "stdout",
       "text": [
        "\n",
        "7"
       ]
      },
      {
       "output_type": "stream",
       "stream": "stdout",
       "text": [
        "\n",
        "8"
       ]
      },
      {
       "output_type": "stream",
       "stream": "stdout",
       "text": [
        "\n",
        "9"
       ]
      },
      {
       "output_type": "stream",
       "stream": "stdout",
       "text": [
        "\n"
       ]
      }
     ],
     "prompt_number": 35
    },
    {
     "cell_type": "code",
     "collapsed": false,
     "input": [
      "dados_onibus = gps[gps.linha.isin(linhas_interesse)].groupby(['linha', 'ordem'])\n",
      "for (linha, ordem), dados in dados_onibus:\n",
      "     if linha in linhas_interesse:\n",
      "            dados = dados.sort(['dataHora'])[['latitude', 'longitude']].as_matrix()\n",
      "            flag = False\n",
      "            for shape, obj_rota in rotas[int(linha)].iteritems():\n",
      "                mesmo_sentido = obj_rota.mesmo_sentido_rota(dados)\n",
      "                if mesmo_sentido:\n",
      "                    dist = obj_rota.distancia_percorrida(dados)\n",
      "                    if dist != 0:\n",
      "                        print(linha, ordem, shape, obj_rota.qualidade_rota(dados)*len(dados)/sqrt(dist), obj_rota.distancia_percorrida(dados))\n",
      "                    else:\n",
      "                        print(linha, ordem, 'parado')\n",
      "                    flag = True\n",
      "            if not flag:\n",
      "                print(linha, ordem, 'sem rota encontrada')"
     ],
     "language": "python",
     "metadata": {},
     "outputs": [
      {
       "output_type": "stream",
       "stream": "stdout",
       "text": [
        "('383', 'D58502', 'parado')\n",
        "('383', 'D58502', 'parado')\n",
        "('383', 'D58502', 'parado')\n",
        "('383', 'D58533', 'parado')\n",
        "('383', 'D58533', 'parado')\n",
        "('383', 'D58533', 'parado')\n",
        "('383', 'D58535', 'parado')\n",
        "('383', 'D58535', 'parado')\n",
        "('383', 'D58535', 'parado')\n",
        "('383', 'D58603', 'parado')\n",
        "('383', 'D58603', 'parado')\n",
        "('383', 'D58603', 'parado')\n",
        "('383', 'D58625', 'parado')\n",
        "('383', 'D58625', 'parado')\n",
        "('383', 'D58625', 'parado')\n",
        "('383', 'D58637', 'parado')\n",
        "('383', 'D58637', 'parado')\n",
        "('383', 'D58637', 'parado')\n",
        "('383', 'D58681', 'parado')\n",
        "('383', 'D58681', 'parado')\n",
        "('383', 'D58681', 'parado')\n",
        "('383', 'D58683', 'parado')\n",
        "('383', 'D58683', 'parado')\n",
        "('383', 'D58683', 'parado')\n",
        "('383', 'D58800', 'parado')\n",
        "('383', 'D58800', 'parado')\n",
        "('383', 'D58800', 'parado')"
       ]
      },
      {
       "output_type": "stream",
       "stream": "stdout",
       "text": [
        "\n",
        "('383', 'D58801', 'parado')\n",
        "('383', 'D58801', 'parado')\n",
        "('383', 'D58801', 'parado')\n",
        "('383', 'D58802', 'parado')\n",
        "('383', 'D58802', 'parado')\n",
        "('383', 'D58802', 'parado')\n",
        "('383', 'D58804', 'parado')\n",
        "('383', 'D58804', 'parado')\n",
        "('383', 'D58804', 'parado')\n",
        "('383', 'D58806', 'parado')\n",
        "('383', 'D58806', 'parado')\n",
        "('383', 'D58806', 'parado')\n",
        "('383', 'D58807', 'parado')\n",
        "('383', 'D58807', 'parado')\n",
        "('383', 'D58807', 'parado')\n",
        "('383', 'D58808', 'parado')\n",
        "('383', 'D58808', 'parado')\n",
        "('383', 'D58808', 'parado')\n",
        "('383', 'D58809', 'parado')\n",
        "('383', 'D58809', 'parado')\n",
        "('383', 'D58809', 'parado')\n",
        "('383', 'D58810', 'parado')\n",
        "('383', 'D58810', 'parado')\n",
        "('383', 'D58810', 'parado')\n",
        "('383', 'D58811', 'parado')\n",
        "('383', 'D58811', 'parado')"
       ]
      },
      {
       "output_type": "stream",
       "stream": "stdout",
       "text": [
        "\n",
        "('383', 'D58811', 'parado')\n",
        "('383', 'D58813', 'parado')\n",
        "('383', 'D58813', 'parado')\n",
        "('383', 'D58813', 'parado')\n",
        "('383', 'D58814', 'parado')\n",
        "('383', 'D58814', 'parado')\n",
        "('383', 'D58814', 'parado')\n",
        "('383', 'D58815', 'parado')\n",
        "('383', 'D58815', 'parado')\n",
        "('383', 'D58815', 'parado')\n",
        "('383', 'D58816', 'parado')\n",
        "('383', 'D58816', 'parado')\n",
        "('383', 'D58816', 'parado')\n",
        "('383', 'D58817', 'parado')\n",
        "('383', 'D58817', 'parado')\n",
        "('383', 'D58817', 'parado')\n",
        "('383', 'D58818', 'parado')\n",
        "('383', 'D58818', 'parado')\n",
        "('383', 'D58818', 'parado')\n",
        "('383', 'D58819', 'parado')\n",
        "('383', 'D58819', 'parado')\n",
        "('383', 'D58819', 'parado')\n",
        "('485', 'B31039', 17606425, 1.3610893073432406, 156)\n",
        "('485', 'B31082', 'sem rota encontrada')\n",
        "('485', 'B31116', 17360376, 99.222304899017956, 304)"
       ]
      },
      {
       "output_type": "stream",
       "stream": "stdout",
       "text": [
        "\n",
        "('485', 'B31123', 17360376, 1.4201361099357364, 417)\n",
        "('485', 'B31131', 'sem rota encontrada')\n",
        "('485', 'B31133', 17606425, 0.18359701840863138, 267)\n",
        "('485', 'B31137', 17606425, 1.4041398907543261, 317)\n",
        "('485', 'B31138', 'sem rota encontrada')\n",
        "('485', 'B31153', 17606425, 0.27076518053694115, 341)\n",
        "('624', 'B51508', 17400097, 684.44531163226236, 26)\n",
        "('624', 'B51508', 17726374, 1.4596008983995234, 23)\n",
        "('624', 'B51513', 'parado')\n",
        "('624', 'B51513', 'parado')\n",
        "('624', 'B51517', 17726374, 0.45436946739765183, 310)\n",
        "('624', 'B51519', 17400097, 0.65653216429861272, 58)\n",
        "('624', 'B51526', 17726374, 0.25247776123912125, 251)\n",
        "('624', 'B51527', 17726374, 0.22291128503014113, 322)"
       ]
      },
      {
       "output_type": "stream",
       "stream": "stdout",
       "text": [
        "\n",
        "('624', 'B51540', 'parado')\n",
        "('624', 'B51540', 17726374, 1.5, 4)\n",
        "('624', 'B51541', 17400097, 402.5417543369561, 522)\n",
        "('624', 'B51547', 17400097, 0.18223702176923609, 271)\n",
        "('624', 'B51563', 17400097, 0.71600155575815705, 158)\n",
        "('624', 'B51565', 'parado')\n",
        "('624', 'B51568', 17726374, 0.32929277996907103, 332)\n",
        "('624', 'B51569', 17726374, 0.44183608216846221, 251)\n",
        "('624', 'B51583', 17726374, 0.15430334996209191, 42)\n",
        "('624', 'B51584', 17400097, 0.3119251469460218, 370)\n",
        "('624', 'B51585', 17726374, 0.0, 141)\n",
        "('624', 'B51593', 17400097, 0.75592894601845451, 175)"
       ]
      },
      {
       "output_type": "stream",
       "stream": "stdout",
       "text": [
        "\n",
        "('624', 'B51594', 17400097, 2.9104275004359961, 153)\n",
        "('624', 'B51595', 17400097, 0.54470477940192219, 273)\n",
        "('624', 'B51597', 17400097, 0.33035042472810611, 449)\n",
        "('624', 'B51598', 17400097, 0.74331111623943458, 219)\n",
        "('624', 'B51609', 17400097, 34.183300813038933, 257)\n",
        "('624', 'B51611', 'parado')\n",
        "('624', 'B51611', 'parado')\n",
        "('624', 'B51613', 17726374, 55.426694999057254, 135)\n",
        "('624', 'B51616', 'parado')\n",
        "('624', 'B51616', 'parado')\n",
        "('624', 'B51617', 17726374, 0.33384893044479436, 323)\n",
        "('624', 'B51618', 17400097, 0.55048188256318031, 330)\n",
        "('624', 'B51619', 'sem rota encontrada')\n",
        "('624', 'B51621', 17400097, 0.17708440083028659, 287)"
       ]
      },
      {
       "output_type": "stream",
       "stream": "stdout",
       "text": [
        "\n",
        "('624', 'B51626', 17726374, 0.60522753266880247, 273)\n",
        "('624', 'B51629', 17726374, 0.30860669992418382, 168)\n",
        "('624', 'B51641', 'parado')\n",
        "('624', 'B51641', 'parado')\n",
        "('624', 'B51645', 17400097, 0.39315916941121126, 317)\n",
        "('624', 'B51647', 17726374, 0.25555062599997597, 245)\n",
        "('624', 'B51649', 17726374, 0.36857707010037072, 265)\n",
        "('624', 'B51651', 17400097, 85.487473398785795, 148)\n",
        "('624', 'B51654', 17726374, 0.62092042056506624, 166)\n",
        "('913', 'B10052', 'parado')\n",
        "('913', 'B10052', 'parado')\n",
        "('913', 'B10059', 'parado')\n",
        "('913', 'B10059', 'parado')\n",
        "('913', 'B10060', 'parado')\n",
        "('913', 'B10060', 'parado')"
       ]
      },
      {
       "output_type": "stream",
       "stream": "stdout",
       "text": [
        "\n",
        "('913', 'B10135', 'parado')\n",
        "('913', 'B10135', 'parado')\n",
        "('913', 'B10188', 'parado')\n",
        "('913', 'B10188', 'parado')\n",
        "('913', 'B10191', 'parado')\n",
        "('913', 'B10191', 'parado')\n",
        "('917', 'B51501', 17411842, 0.40894436648589017, 293)\n",
        "('917', 'B51501', 17574370, 0.40894436648589017, 293)\n",
        "('917', 'B51502', 17574370, 0.23544080467400555, 451)\n",
        "('917', 'B51509', 17411842, 0.30499714066520933, 172)\n",
        "('917', 'B51509', 17574370, 0.30499714066520933, 172)\n",
        "('917', 'B51518', 'parado')\n",
        "('917', 'B51518', 'parado')\n",
        "('917', 'B51518', 'parado')\n",
        "('917', 'B51518', 'parado')\n",
        "('917', 'B51520', 17374148, 106.76115962970549, 146)\n",
        "('917', 'B51520', 17375543, 20.191598177030841, 157)\n",
        "('917', 'B51522', 17411842, 0.11396057645963795, 308)"
       ]
      },
      {
       "output_type": "stream",
       "stream": "stdout",
       "text": [
        "\n",
        "('917', 'B51522', 17574370, 0.11396057645963795, 308)\n",
        "('917', 'B51524', 17374148, 0.87185729057864458, 296)\n",
        "('917', 'B51524', 17375543, 434.11662591745909, 245)\n",
        "('917', 'B51529', 17374148, 0.63960214906683133, 352)\n",
        "('917', 'B51530', 17374148, 0.33488734331156855, 321)\n",
        "('917', 'B51530', 17375543, 156.63288545468609, 273)\n",
        "('917', 'B51533', 17374148, 0.2439750182371333, 420)\n",
        "('917', 'B51546', 17374148, 0.59587957153112403, 138)\n",
        "('917', 'B51546', 17375543, 0.59587957153112403, 138)\n",
        "('917', 'B51549', 17374148, 226.51375561206316, 27)\n",
        "('917', 'B51549', 17375543, 6.3266354240997407, 38)\n",
        "('917', 'B51550', 17411842, 247.97740841045825, 488)\n",
        "('917', 'B51550', 17574370, 0.35043832202523123, 399)"
       ]
      },
      {
       "output_type": "stream",
       "stream": "stdout",
       "text": [
        "\n",
        "('917', 'B51578', 17374148, 10.969655114602892, 3)\n",
        "('917', 'B51578', 17375543, 10.969655114602892, 3)\n",
        "('917', 'B51587', 17374148, 0.73979544287410781, 148)\n",
        "('917', 'B51587', 17375543, 0.73979544287410781, 148)\n",
        "('917', 'B51596', 17411842, 570.83415182974488, 353)\n",
        "('917', 'B51596', 17574370, 0.23132597278649608, 299)\n",
        "('917', 'B51607', 17411842, 1.3877190609556884, 229)\n",
        "('917', 'B51607', 17574370, 1.3877190609556884, 229)\n",
        "('917', 'B51614', 17411842, 0.28171808490950551, 315)\n",
        "('917', 'B51614', 17574370, 0.28171808490950551, 315)\n",
        "('917', 'B51620', 17411842, 0.3254722774520597, 236)\n",
        "('917', 'B51620', 17574370, 0.3254722774520597, 236)\n",
        "('917', 'B51624', 17574370, 0.29897403710077436, 179)\n",
        "('917', 'B51625', 17374148, 0.34522548160168248, 537)"
       ]
      },
      {
       "output_type": "stream",
       "stream": "stdout",
       "text": [
        "\n",
        "('917', 'B51625', 17375543, 26.93579931791216, 523)\n",
        "('917', 'B51627', 17411842, 0.4595725150090289, 232)\n",
        "('917', 'B51627', 17574370, 0.4595725150090289, 232)\n",
        "('917', 'B51628', 17411842, 0.26967994498529685, 220)\n",
        "('917', 'B51628', 17574370, 0.26967994498529685, 220)\n",
        "('917', 'B51630', 17411842, 222.55600264186677, 218)\n",
        "('917', 'B51630', 17574370, 0.24806946917841693, 260)\n",
        "('917', 'B51642', 17374148, 57.913768185592495, 220)\n",
        "('917', 'B51642', 17375543, 7.5664444920373422, 231)\n",
        "('917', 'B51643', 17374148, 8.104368066601964, 307)\n",
        "('917', 'B51643', 17375543, 0.89582801752936692, 319)\n",
        "('917', 'B51646', 17374148, 0.1682316462276133, 318)\n",
        "('917', 'B51646', 17375543, 138.71815048768954, 273)\n"
       ]
      }
     ],
     "prompt_number": 37
    },
    {
     "cell_type": "code",
     "collapsed": false,
     "input": [
      "gps[gps.ordem == 'B51643']"
     ],
     "language": "python",
     "metadata": {},
     "outputs": [
      {
       "html": [
        "<div style=\"max-height:1000px;max-width:1500px;overflow:auto;\">\n",
        "<table border=\"1\" class=\"dataframe\">\n",
        "  <thead>\n",
        "    <tr style=\"text-align: right;\">\n",
        "      <th></th>\n",
        "      <th>dataHora</th>\n",
        "      <th>ordem</th>\n",
        "      <th>linha</th>\n",
        "      <th>latitude</th>\n",
        "      <th>longitude</th>\n",
        "      <th>velocidade</th>\n",
        "    </tr>\n",
        "  </thead>\n",
        "  <tbody>\n",
        "    <tr>\n",
        "      <th>6652</th>\n",
        "      <td>08-01-2015 16:55:15</td>\n",
        "      <td>B51643</td>\n",
        "      <td>917</td>\n",
        "      <td>-22.8677</td>\n",
        "      <td>-43.2554</td>\n",
        "      <td>37</td>\n",
        "    </tr>\n",
        "    <tr>\n",
        "      <th>6665</th>\n",
        "      <td>08-01-2015 16:56:15</td>\n",
        "      <td>B51643</td>\n",
        "      <td>917</td>\n",
        "      <td>-22.8673</td>\n",
        "      <td>-43.2556</td>\n",
        "      <td>0</td>\n",
        "    </tr>\n",
        "    <tr>\n",
        "      <th>4364</th>\n",
        "      <td>08-01-2015 16:56:45</td>\n",
        "      <td>B51643</td>\n",
        "      <td>917</td>\n",
        "      <td>-22.8673</td>\n",
        "      <td>-43.2556</td>\n",
        "      <td>0</td>\n",
        "    </tr>\n",
        "    <tr>\n",
        "      <th>6281</th>\n",
        "      <td>08-01-2015 16:59:08</td>\n",
        "      <td>B51643</td>\n",
        "      <td>917</td>\n",
        "      <td>-22.8688</td>\n",
        "      <td>-43.2676</td>\n",
        "      <td>0</td>\n",
        "    </tr>\n",
        "    <tr>\n",
        "      <th>6751</th>\n",
        "      <td>08-01-2015 17:00:18</td>\n",
        "      <td>B51643</td>\n",
        "      <td>917</td>\n",
        "      <td>-22.8701</td>\n",
        "      <td>-43.2684</td>\n",
        "      <td>20</td>\n",
        "    </tr>\n",
        "  </tbody>\n",
        "</table>\n",
        "</div>"
       ],
       "metadata": {},
       "output_type": "pyout",
       "prompt_number": 24,
       "text": [
        "                 dataHora   ordem linha  latitude  longitude  velocidade\n",
        "6652  08-01-2015 16:55:15  B51643   917  -22.8677   -43.2554          37\n",
        "6665  08-01-2015 16:56:15  B51643   917  -22.8673   -43.2556           0\n",
        "4364  08-01-2015 16:56:45  B51643   917  -22.8673   -43.2556           0\n",
        "6281  08-01-2015 16:59:08  B51643   917  -22.8688   -43.2676           0\n",
        "6751  08-01-2015 17:00:18  B51643   917  -22.8701   -43.2684          20"
       ]
      }
     ],
     "prompt_number": 24
    },
    {
     "cell_type": "code",
     "collapsed": false,
     "input": [
      "precisao = 4\n",
      "\n",
      "def discretizacao(x):\n",
      "    return int(x[0]*10**precisao), int(x[1]*10**precisao)\n",
      "def inv_discretizacao(x):\n",
      "    return round(x[0]/10.0**precisao, precisao), round(x[1]/10.0**precisao, precisao)\n",
      "\n",
      "a = discretizacao((-22.8809, -43.4300))\n",
      "print(a)\n",
      "print(inv_discretizacao(a))"
     ],
     "language": "python",
     "metadata": {},
     "outputs": [
      {
       "output_type": "stream",
       "stream": "stdout",
       "text": [
        "(-228809, -434300)\n",
        "(-22.8809, -43.43)\n"
       ]
      }
     ],
     "prompt_number": 7
    },
    {
     "cell_type": "code",
     "collapsed": false,
     "input": [
      "class Rota:\n",
      "    def __init__(self, shapes, metadado_rota = None, discretizador = discretizacao):\n",
      "        self.pontos_rota = list()\n",
      "        self.metadado = metadado_rota \n",
      "        self.discretizador = discretizador\n",
      "        \n",
      "        ponto_anterior  = None\n",
      "        for x, y in shapes:\n",
      "            ponto_atual = self.discretizador((x, y))\n",
      "            if ponto_anterior is not None:              \n",
      "                pontos_segmento = bresenham(ponto_anterior, ponto_atual)[:-1]\n",
      "                self.pontos_rota += list(pontos_segmento)\n",
      "            ponto_anterior = ponto_atual\n",
      "            \n",
      "        self.pontos_rota += [ponto_anterior]\n",
      "        self.kdtree = cKDTree(self.pontos_rota)\n",
      "    \n",
      "    def ponto_mais_proximo(self, coordenada):\n",
      "        ponto = self.discretizador(coordenada)\n",
      "        distancia, indice =  self.kdtree.query(ponto)\n",
      "        return self.pontos_rota[indice], distancia\n",
      "    \n",
      "    def qualidade_rota(self, sequencia_pontos):\n",
      "        erro = 0.0\n",
      "        for ponto_atual in sequencia_pontos:\n",
      "            _, distancia = self.ponto_mais_proximo(ponto_atual)\n",
      "            erro += distancia*distancia\n",
      "        return erro/len(sequencia_pontos)\n",
      "    \n",
      "    def distancia_percorrida(self, sequencia_pontos):\n",
      "        distancia_total = 0.0\n",
      "        if self.mesmo_sentido_rota(sequencia_pontos):\n",
      "            primeiro = sequencia_pontos[0]\n",
      "            ultimo = sequencia_pontos[-1]\n",
      "            _, indicePrimeiro =  self.kdtree.query(self.discretizador(primeiro))\n",
      "            _, indiceUltimo =  self.kdtree.query(self.discretizador(ultimo))\n",
      "            return indiceUltimo - indicePrimeiro\n",
      "        return None\n",
      "        \n",
      "    def mesmo_sentido_rota(self, sequencia_pontos):\n",
      "        ultimo_indice = None\n",
      "        for ponto_atual in sequencia_pontos:\n",
      "            _, indice =  self.kdtree.query(self.discretizador(ponto_atual))\n",
      "            if ultimo_indice is not None and ultimo_indice > indice:\n",
      "                return False\n",
      "            ultimo_indice = indice\n",
      "        return True"
     ],
     "language": "python",
     "metadata": {},
     "outputs": [],
     "prompt_number": 29
    },
    {
     "cell_type": "code",
     "collapsed": false,
     "input": [
      "#http://www.roguebasin.com/index.php?title=Bresenham%27s_Line_Algorithm#Python\n",
      "def bresenham(start, end):\n",
      "    \"\"\"Bresenham's Line Algorithm\n",
      "    Produces a list of tuples from start and end\n",
      " \n",
      "    >>> points1 = get_line((0, 0), (3, 4))\n",
      "    >>> points2 = get_line((3, 4), (0, 0))\n",
      "    >>> assert(set(points1) == set(points2))\n",
      "    >>> print points1\n",
      "    [(0, 0), (1, 1), (1, 2), (2, 3), (3, 4)]\n",
      "    >>> print points2\n",
      "    [(3, 4), (2, 3), (1, 2), (1, 1), (0, 0)]\n",
      "    \"\"\"\n",
      "    # Setup initial conditions\n",
      "    x1, y1 = start\n",
      "    x2, y2 = end\n",
      "    dx = x2 - x1\n",
      "    dy = y2 - y1\n",
      " \n",
      "    # Determine how steep the line is\n",
      "    is_steep = abs(dy) > abs(dx)\n",
      " \n",
      "    # Rotate line\n",
      "    if is_steep:\n",
      "        x1, y1 = y1, x1\n",
      "        x2, y2 = y2, x2\n",
      " \n",
      "    # Swap start and end points if necessary and store swap state\n",
      "    swapped = False\n",
      "    if x1 > x2:\n",
      "        x1, x2 = x2, x1\n",
      "        y1, y2 = y2, y1\n",
      "        swapped = True\n",
      " \n",
      "    # Recalculate differentials\n",
      "    dx = x2 - x1\n",
      "    dy = y2 - y1\n",
      " \n",
      "    # Calculate error\n",
      "    error = int(dx / 2.0)\n",
      "    ystep = 1 if y1 < y2 else -1\n",
      " \n",
      "    # Iterate over bounding box generating points between start and end\n",
      "    y = y1\n",
      "    points = []\n",
      "    for x in range(x1, x2 + 1):\n",
      "        coord = (y, x) if is_steep else (x, y)\n",
      "        points.append(coord)\n",
      "        error -= abs(dy)\n",
      "        if error < 0:\n",
      "            y += ystep\n",
      "            error += dx\n",
      " \n",
      "    # Reverse the list if the coordinates were swapped\n",
      "    if swapped:\n",
      "        points.reverse()\n",
      "    return points"
     ],
     "language": "python",
     "metadata": {},
     "outputs": [],
     "prompt_number": 9
    }
   ],
   "metadata": {}
  }
 ]
}